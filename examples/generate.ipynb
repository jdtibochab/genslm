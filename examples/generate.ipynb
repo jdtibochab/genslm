{
 "cells": [
  {
   "cell_type": "markdown",
   "metadata": {
    "colab_type": "text",
    "id": "view-in-github"
   },
   "source": [
    "<a href=\"https://colab.research.google.com/github/ramanathanlab/genslm/blob/main/examples/generate.ipynb\" target=\"_parent\"><img src=\"https://colab.research.google.com/assets/colab-badge.svg\" alt=\"Open In Colab\"/></a>"
   ]
  },
  {
   "cell_type": "code",
   "execution_count": 1,
   "metadata": {
    "colab": {
     "base_uri": "https://localhost:8080/"
    },
    "id": "YZ6uvXc6DDpG",
    "outputId": "48febbf8-0472-4811-abd1-cdaf5f95cff9"
   },
   "outputs": [],
   "source": [
    "# # NOTE: You may need to run this twice due to a pip dependency conflict\n",
    "# !pip install pip==24.0\n",
    "# !pip install git+https://github.com/ramanathanlab/genslm"
   ]
  },
  {
   "cell_type": "code",
   "execution_count": 2,
   "metadata": {},
   "outputs": [
    {
     "name": "stdout",
     "output_type": "stream",
     "text": [
      "patric_25m_epoch01-val_loss_0.57_bias_removed.pt\n"
     ]
    }
   ],
   "source": [
    "!ls ~/projects/exascale/genslm/models/25M"
   ]
  },
  {
   "cell_type": "code",
   "execution_count": 3,
   "metadata": {
    "colab": {
     "base_uri": "https://localhost:8080/"
    },
    "id": "dI0g0tXqDDpJ",
    "outputId": "ee41c4df-734c-4c74-cbf9-df2d583e1f6e"
   },
   "outputs": [
    {
     "name": "stderr",
     "output_type": "stream",
     "text": [
      "/users/jdtibochab/.local/share/mamba/envs/genslm-py37/lib/python3.7/site-packages/tqdm/auto.py:21: TqdmWarning: IProgress not found. Please update jupyter and ipywidgets. See https://ipywidgets.readthedocs.io/en/stable/user_install.html\n",
      "  from .autonotebook import tqdm as notebook_tqdm\n"
     ]
    },
    {
     "name": "stdout",
     "output_type": "stream",
     "text": [
      "ATG TCT GAC AAC ATT GAA ATG ACG CAA GAA\n",
      "ATG ACT GAA CGC CCC CAC CCC TCC CTG CCC\n"
     ]
    }
   ],
   "source": [
    "import torch\n",
    "from genslm import GenSLM\n",
    "\n",
    "# Load model\n",
    "model = GenSLM(\"genslm_25M_patric\", model_cache_dir=\"/users/jdtibochab/projects/exascale/genslm/models/25M\")\n",
    "model.eval()\n",
    "\n",
    "# Select GPU device if it is available, else use CPU\n",
    "device = \"cuda\" if torch.cuda.is_available() else \"cpu\"\n",
    "model.to(device)\n",
    "\n",
    "# Prompt the language model with a start codon\n",
    "prompt = model.tokenizer.encode(\"ATG\", return_tensors=\"pt\").to(device)\n",
    "\n",
    "tokens = model.model.generate(\n",
    "    prompt,\n",
    "    max_length=10,  # Increase this to generate longer sequences\n",
    "    min_length=10,\n",
    "    do_sample=True,\n",
    "    top_k=50,\n",
    "    top_p=0.95,\n",
    "    num_return_sequences=2,  # Change the number of sequences to generate\n",
    "    remove_invalid_values=True,\n",
    "    use_cache=True,\n",
    "    pad_token_id=model.tokenizer.encode(\"[PAD]\")[0],\n",
    "    temperature=1.0,\n",
    ")\n",
    "\n",
    "sequences = model.tokenizer.batch_decode(tokens, skip_special_tokens=True)\n",
    "\n",
    "for sequence in sequences:\n",
    "    print(sequence)"
   ]
  },
  {
   "cell_type": "code",
   "execution_count": null,
   "metadata": {
    "id": "Tt8zLQyNDDpL"
   },
   "outputs": [],
   "source": []
  },
  {
   "cell_type": "code",
   "execution_count": null,
   "metadata": {},
   "outputs": [],
   "source": []
  }
 ],
 "metadata": {
  "colab": {
   "include_colab_link": true,
   "provenance": []
  },
  "kernelspec": {
   "display_name": "genslm-py37",
   "language": "python",
   "name": "python3"
  },
  "language_info": {
   "codemirror_mode": {
    "name": "ipython",
    "version": 3
   },
   "file_extension": ".py",
   "mimetype": "text/x-python",
   "name": "python",
   "nbconvert_exporter": "python",
   "pygments_lexer": "ipython3",
   "version": "3.7.12"
  },
  "orig_nbformat": 4
 },
 "nbformat": 4,
 "nbformat_minor": 0
}
